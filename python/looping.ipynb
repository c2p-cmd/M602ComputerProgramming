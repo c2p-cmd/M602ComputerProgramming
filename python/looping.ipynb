{
 "cells": [
  {
   "cell_type": "code",
   "execution_count": 1,
   "metadata": {},
   "outputs": [
    {
     "name": "stdout",
     "output_type": "stream",
     "text": [
      "customer1\n",
      "customer2\n",
      "Found customer2!\n",
      "customer3\n",
      "\n",
      "customer1\n",
      "customer3\n"
     ]
    }
   ],
   "source": [
    "# For-Loops!\n",
    "customer_list = [\n",
    "    \"customer1\",\n",
    "    \"customer2\",\n",
    "    \"customer3\"\n",
    "]\n",
    "for customer in customer_list:\n",
    "    print(customer)\n",
    "    if customer == \"customer2\":\n",
    "        print(f\"Found {customer}!\")\n",
    "\n",
    "print()\n",
    "\n",
    "for customer in customer_list:\n",
    "    if customer == \"customer2\":\n",
    "        continue\n",
    "    print(customer)"
   ]
  },
  {
   "cell_type": "markdown",
   "metadata": {},
   "source": [
    "1. Create a list of 7 names, and then write a for loop to send a congratulations message to each name (e.g. \"Congratulations Tom!\")\n",
    "2. Create a for loop to print every letter in a string\n",
    "    - Note: You can index strings like lists e.g. string_example[0]\n",
    "3. Create a for loop which appends the square of number into a new list,\n",
    "    - using: Ist1=[3, 7, 6,8,9, 11, 15, 25] 1st2=[]\n",
    "    - Note: you can append an item onto the end of a list using Ist2.append (item)\n",
    "4. For the previous loop, include a if-statement to catch any strings in the first list. If it finds a string, skip this iteration and print the index and an error message (e.g. \"Index [0] was a string, not an integer\")"
   ]
  },
  {
   "cell_type": "code",
   "execution_count": 1,
   "metadata": {},
   "outputs": [
    {
     "name": "stdout",
     "output_type": "stream",
     "text": [
      "Congratulations John\n",
      "Congratulations James\n",
      "Congratulations Arthur\n",
      "Congratulations Steve\n",
      "Congratulations Klay\n",
      "Congratulations Dwayne\n",
      "Congratulations Ben\n"
     ]
    }
   ],
   "source": [
    "names = [\n",
    "    \"John\",\n",
    "    \"James\",\n",
    "    \"Arthur\",\n",
    "    \"Steve\",\n",
    "    \"Klay\",\n",
    "    \"Dwayne\",\n",
    "    \"Ben\",\n",
    "]\n",
    "\n",
    "for name in names:\n",
    "    print(f\"Congratulations {name}\")"
   ]
  },
  {
   "cell_type": "code",
   "execution_count": 2,
   "metadata": {},
   "outputs": [
    {
     "name": "stdout",
     "output_type": "stream",
     "text": [
      "S o m e   e x a m p l e   o f   a   s t r i n g   i s   t h i s . \n",
      "\n"
     ]
    }
   ],
   "source": [
    "string = \"Some example of a string is this.\"\n",
    "for char in string:\n",
    "    print(char, sep=\" \", end=\" \")\n",
    "print(\"\\n\")"
   ]
  },
  {
   "cell_type": "code",
   "execution_count": 3,
   "metadata": {},
   "outputs": [
    {
     "name": "stdout",
     "output_type": "stream",
     "text": [
      "[9, 49, 36, 64, 81, 121, 225, 625]\n"
     ]
    }
   ],
   "source": [
    "list_1 = [3, 7, 6, 8, 9, 11, 15, 25]\n",
    "list_2 = []\n",
    "for number in list_1:\n",
    "    list_2.append(number ** 2)\n",
    "print(list_2)"
   ]
  },
  {
   "cell_type": "code",
   "execution_count": 4,
   "metadata": {},
   "outputs": [
    {
     "name": "stdout",
     "output_type": "stream",
     "text": [
      "'list_1[2]=6'` is a string, not an integer\n",
      "'list_1[4]=9'` is a string, not an integer\n",
      "'list_1[5]=11'` is a string, not an integer\n"
     ]
    }
   ],
   "source": [
    "list_1 = [3, 7, \"6\", 8, \"9\", \"11\", 15, 25]\n",
    "for i in range(len(list_1)):\n",
    "    number = list_1[i]\n",
    "    if isinstance(number, str):\n",
    "        print(f\"\\'list_1[{i}]={number}\\'` is a string, not an integer\")"
   ]
  },
  {
   "cell_type": "code",
   "execution_count": 5,
   "metadata": {},
   "outputs": [
    {
     "name": "stdout",
     "output_type": "stream",
     "text": [
      "Total=5050\n"
     ]
    }
   ],
   "source": [
    "# Create a while loop that adds all the numbers up to 100.\n",
    "counter = 1\n",
    "total = 0\n",
    "while counter <= 100:\n",
    "    total += counter\n",
    "    counter += 1\n",
    "print(f\"Total={total}\")"
   ]
  },
  {
   "cell_type": "code",
   "execution_count": 6,
   "metadata": {},
   "outputs": [
    {
     "name": "stdout",
     "output_type": "stream",
     "text": [
      "We have been expecting you Mr. Bond\n"
     ]
    }
   ],
   "source": [
    "# using while loop, iterate through a list of names. If the name is \"Bond\", print \"We have been expecting you\"\n",
    "names = [\n",
    "    \"John\",\n",
    "    \"James\",\n",
    "    \"Arthur\",\n",
    "    \"Steve\",\n",
    "    \"Klay\",\n",
    "    \"Bond\",\n",
    "    \"Dwayne\",\n",
    "    \"Marc\",\n",
    "    \"Ben\",\n",
    "]\n",
    "i = 0\n",
    "while i < len(names):\n",
    "    name = names[i]\n",
    "    if name == 'Bond':\n",
    "        print(f\"We have been expecting you Mr. Bond\")\n",
    "    i += 1"
   ]
  }
 ],
 "metadata": {
  "kernelspec": {
   "display_name": ".venv",
   "language": "python",
   "name": "python3"
  },
  "language_info": {
   "codemirror_mode": {
    "name": "ipython",
    "version": 3
   },
   "file_extension": ".py",
   "mimetype": "text/x-python",
   "name": "python",
   "nbconvert_exporter": "python",
   "pygments_lexer": "ipython3",
   "version": "3.9.6"
  }
 },
 "nbformat": 4,
 "nbformat_minor": 2
}
