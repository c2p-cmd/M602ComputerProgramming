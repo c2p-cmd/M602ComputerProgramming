{
 "cells": [
  {
   "cell_type": "markdown",
   "metadata": {},
   "source": [
    "#### Try the following\n",
    "1. Write a program that takes user input string and prints the length of the strings\n",
    "2. Write a program that takes two user input integers and prints the sum of them\n",
    "3. Write a program that replaces all the vowels in a string with “*” "
   ]
  },
  {
   "cell_type": "code",
   "execution_count": 1,
   "metadata": {},
   "outputs": [
    {
     "name": "stdout",
     "output_type": "stream",
     "text": [
      "Length of Mason is 5\n"
     ]
    }
   ],
   "source": [
    "input_str = input(\"Enter a string\")\n",
    "print(f\"Length of {input_str} is {len(input_str)}\")"
   ]
  },
  {
   "cell_type": "code",
   "execution_count": 3,
   "metadata": {},
   "outputs": [
    {
     "name": "stdout",
     "output_type": "stream",
     "text": [
      "Sum of 223 + 1 = 224\n"
     ]
    }
   ],
   "source": [
    "n1 = int(input(\"Enter number 1: \"))\n",
    "n2 = int(input(\"Enter number 2: \"))\n",
    "print(f\"Sum of {n1} + {n2} = {n1 + n2}\")"
   ]
  },
  {
   "cell_type": "code",
   "execution_count": 8,
   "metadata": {},
   "outputs": [
    {
     "name": "stdout",
     "output_type": "stream",
     "text": [
      "Original: Peekaboo, New: P**k*b**\n"
     ]
    }
   ],
   "source": [
    "VOWELS = ['a', 'e', 'i', 'o', 'u']\n",
    "\n",
    "input_str = input(\"Enter a string\")\n",
    "mapped_str = ''.join(['*' if c in VOWELS else c for c in input_str])\n",
    "\n",
    "print(f\"Original: {input_str}, New: {mapped_str}\")"
   ]
  }
 ],
 "metadata": {
  "kernelspec": {
   "display_name": ".venv",
   "language": "python",
   "name": "python3"
  },
  "language_info": {
   "codemirror_mode": {
    "name": "ipython",
    "version": 3
   },
   "file_extension": ".py",
   "mimetype": "text/x-python",
   "name": "python",
   "nbconvert_exporter": "python",
   "pygments_lexer": "ipython3",
   "version": "3.9.6"
  }
 },
 "nbformat": 4,
 "nbformat_minor": 2
}
