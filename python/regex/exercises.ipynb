{
 "cells": [
  {
   "cell_type": "markdown",
   "metadata": {},
   "source": [
    "Regular expression exercises\n",
    "1. Validating Email Addresses - Create a function that takes an email address as input and uses regular expressions to validate whether it is a valid email address format or not.\n",
    "2. Extracting Phone Numbers - Create a function that takes a string as input and uses regular expressions to extract all the phone numbers (in a specific format, such as XXX-XXX-XXXX) from the string.\n",
    "3. Validating URLs - Create a function that takes a URL as input and uses regular expressions to validate whether it is a valid URL format or not.\n",
    "4. Finding Duplicate Words - Create a function that takes a string as input and uses regular expressions to find all the duplicate words in the string."
   ]
  },
  {
   "cell_type": "code",
   "execution_count": 1,
   "metadata": {},
   "outputs": [],
   "source": [
    "import re"
   ]
  },
  {
   "cell_type": "code",
   "execution_count": 2,
   "metadata": {},
   "outputs": [
    {
     "data": {
      "text/plain": [
       "(True, False, False)"
      ]
     },
     "execution_count": 2,
     "metadata": {},
     "output_type": "execute_result"
    }
   ],
   "source": [
    "'''\n",
    "validating email address\n",
    "'''\n",
    "def validate_url(email: str) -> bool:\n",
    "    '''\n",
    "    Checks if email address is validate or not\n",
    "\n",
    "    Parameters:\n",
    "        - email [str]\n",
    "    Returns:\n",
    "        - is_valid [bool]\n",
    "    '''\n",
    "    pattern = r'^[a-zA-Z0-9._%+-]+@[a-zA-Z0-9.-]+\\.[a-zA-Z]{2,4}$'\n",
    "    regex = re.compile(pattern)\n",
    "    return regex.fullmatch(email) is not None\n",
    "\n",
    "validate_url(email=\"she@example.com\"), validate_url(email=\"she@example.comkssds\"), validate_url(email=\"sheexample.comkssds\")"
   ]
  },
  {
   "cell_type": "code",
   "execution_count": 3,
   "metadata": {},
   "outputs": [
    {
     "data": {
      "text/plain": [
       "['455-567-9231', '155-403-6719']"
      ]
     },
     "execution_count": 3,
     "metadata": {},
     "output_type": "execute_result"
    }
   ],
   "source": [
    "'''\n",
    "validating phone numbers\n",
    "'''\n",
    "def extract_phone_numbers(text: str) -> list[str]:\n",
    "    pattern = r'\\b\\d{3}-\\d{3}-\\d{4}\\b'\n",
    "\n",
    "    return re.findall(pattern, text)\n",
    "\n",
    "extract_phone_numbers(text='''\n",
    "TOmmy's cell is 455-567-9231\n",
    "His brother is at 155-403-6719\n",
    "''')"
   ]
  },
  {
   "cell_type": "code",
   "execution_count": 5,
   "metadata": {},
   "outputs": [
    {
     "data": {
      "text/plain": [
       "(True, True, False, False)"
      ]
     },
     "execution_count": 5,
     "metadata": {},
     "output_type": "execute_result"
    }
   ],
   "source": [
    "'''\n",
    "validating a url\n",
    "'''\n",
    "def validate_url(url: str) -> bool:\n",
    "    pattern = r\"^(https?|ftp):\\/\\/[a-zA-Z0-9.-]+(\\.[a-zA-Z]{2,})(\\/[\\w\\-./?%&=]*)?$\"\n",
    "    return re.fullmatch(pattern, url, re.IGNORECASE) is not None\n",
    "\n",
    "validate_url(\"https://www.apple.com/\"), validate_url(\"http://www.apple.com/\"), validate_url(\"https://apple.com?value=35\"), validate_url(\"https://apple.com?value=35&collor=pink\")"
   ]
  },
  {
   "cell_type": "code",
   "execution_count": null,
   "metadata": {},
   "outputs": [],
   "source": []
  }
 ],
 "metadata": {
  "kernelspec": {
   "display_name": ".venv",
   "language": "python",
   "name": "python3"
  },
  "language_info": {
   "codemirror_mode": {
    "name": "ipython",
    "version": 3
   },
   "file_extension": ".py",
   "mimetype": "text/x-python",
   "name": "python",
   "nbconvert_exporter": "python",
   "pygments_lexer": "ipython3",
   "version": "3.9.6"
  }
 },
 "nbformat": 4,
 "nbformat_minor": 2
}
