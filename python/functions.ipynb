{
 "cells": [
  {
   "cell_type": "markdown",
   "metadata": {},
   "source": [
    "1. Write a function called square that takes a number as an argument and returns the square of that number.\n",
    "2. Write a function called max_num that takes two numbers as arguments and returns the larger of the two numbers.\n",
    "3. Write a function called calculate_tax that takes a salary as an argument and returns the amount of tax that should be paid based on the following tax brackets:\n",
    "    - Income up to €20,000: 0% tax\n",
    "    - Income from €20,001 to €50,000: 10% tax\n",
    "    - Income from €50,001 to €100,000: 20% tax\n",
    "    - Income above €100,000: 30% tax\n",
    "4. Write a function called reverse_string that takes a string as an argument and returns the string in reverse order.\n",
    "5. Write a function called find_average that takes a list of numbers as an argument and returns the average of those numbers.\n",
    "6. Currency exchange calculator. \n",
    "    - Read through https://github.com/fawazahmed0/currency-api#readme \n",
    "    - Connect to this API using Python requests package to convert currency exchange from Dollars to Euros"
   ]
  },
  {
   "cell_type": "code",
   "execution_count": null,
   "metadata": {},
   "outputs": [
    {
     "name": "stdout",
     "output_type": "stream",
     "text": [
      "3, 9\n"
     ]
    }
   ],
   "source": [
    "def square(number: int) -> int:\n",
    "    '''\n",
    "    A function to calculate and return the square of the input number\n",
    "\n",
    "    Parameters:\n",
    "        number (int): Input integer\n",
    "    \n",
    "    Returns: \n",
    "        result (int): Square of the number\n",
    "    '''\n",
    "    return number ** 2\n",
    "\n",
    "input_number = int(input(\"Enter a number to square\"))\n",
    "print(input_number, square(number=input_number), sep=\", \")"
   ]
  },
  {
   "cell_type": "code",
   "execution_count": null,
   "metadata": {},
   "outputs": [
    {
     "name": "stdout",
     "output_type": "stream",
     "text": [
      "Maximum of 12 and 56 is 56\n"
     ]
    }
   ],
   "source": [
    "def max_num(a: int, b: int) -> int:\n",
    "    '''\n",
    "    A function to return the larger of the 2 numbers\n",
    "\n",
    "    Parameters:\n",
    "        a (int): First integer\n",
    "        b (int): Second integer\n",
    "    \n",
    "    Returns:\n",
    "        result (int): Larger of the 2 numbers\n",
    "    '''\n",
    "    return max(a, b)\n",
    "\n",
    "number1 = int(input(\"Enter number 1: \"))\n",
    "number2 = int(input(\"Enter number 2: \"))\n",
    "\n",
    "print(f\"Maximum of {number1} and {number2} is {max_num(number1, number2)}\")"
   ]
  },
  {
   "cell_type": "code",
   "execution_count": null,
   "metadata": {},
   "outputs": [
    {
     "name": "stdout",
     "output_type": "stream",
     "text": [
      "For salary of 14000\n",
      "You pay 0% tax\n"
     ]
    }
   ],
   "source": [
    "def calculate_tax(salary: int):\n",
    "    '''\n",
    "    A function to calculate the tax to be paid based on the salary (in EUR).\n",
    "\n",
    "    Parameters:\n",
    "        salary (int): Annual Salary in EUR.\n",
    "    '''\n",
    "    print(f\"For salary of {salary}\")\n",
    "    if salary <= 20_000:\n",
    "        print(\"You pay 0% tax\")\n",
    "    elif salary in range(20_001, 50_001):\n",
    "        print(\"You pay 10% tax\")\n",
    "    elif salary in range(50_001, 100_001):\n",
    "        print(\"You pay 20% tax\")\n",
    "    else:\n",
    "        print(\"You pay 30% tax\")\n",
    "\n",
    "salary = int(input(\"Enter your salary:\"))\n",
    "calculate_tax(salary=salary)"
   ]
  },
  {
   "cell_type": "code",
   "execution_count": null,
   "metadata": {},
   "outputs": [
    {
     "name": "stdout",
     "output_type": "stream",
     "text": [
      "reverse of Programming is gnimmargorP\n"
     ]
    }
   ],
   "source": [
    "def reverse_string(input_string: str) -> str:\n",
    "    '''\n",
    "    A function to reverse the given string\n",
    "\n",
    "    Parameters:\n",
    "        input_string (str): The string given to be reversed\n",
    "    \n",
    "    Returns:\n",
    "        reversed_string (str): The string in a reversed manner\n",
    "    '''\n",
    "    reversed_value = reversed(input_string)\n",
    "    reversed_string = \"\".join(reversed_value)\n",
    "    return reversed_string\n",
    "\n",
    "\n",
    "input_string = input(\"Enter something:\")\n",
    "print(f\"reverse of {input_string} is {reverse_string(input_string)}\")"
   ]
  },
  {
   "cell_type": "code",
   "execution_count": null,
   "metadata": {},
   "outputs": [
    {
     "name": "stdout",
     "output_type": "stream",
     "text": [
      "Average of [12, 34, 72, 88] is 51.5\n"
     ]
    }
   ],
   "source": [
    "numbers_list = list(map(lambda e: int(e), input(\"Enter list of numbers\").split(\" \")))\n",
    "numbers_list.sort()\n",
    "\n",
    "def find_average(numbers_list: list[int]) -> float:\n",
    "    '''\n",
    "    A function to find the average of a list of numbers\n",
    "\n",
    "    Parameters:\n",
    "        numbers_list (list[int]): A list of numbers\n",
    "    \n",
    "    Returns:\n",
    "        average (float): The average value of all the numbers in the list\n",
    "    '''\n",
    "    numbers_sum = sum(numbers_list)\n",
    "    average = numbers_sum / len(numbers_list)\n",
    "    return average\n",
    "\n",
    "print(f\"Average of {numbers_list} is {find_average(numbers_list)}\")"
   ]
  },
  {
   "cell_type": "code",
   "execution_count": null,
   "metadata": {},
   "outputs": [
    {
     "name": "stdout",
     "output_type": "stream",
     "text": [
      "Making request!\n",
      "51.0 USD is 46.90 EUR\n"
     ]
    }
   ],
   "source": [
    "import requests\n",
    "\n",
    "def convert_usd_to_eur(usd: float) -> float:\n",
    "    '''\n",
    "    A function to convert US Dollars to Euros.\n",
    "    This method will hit an external API and return the value in Euros.\n",
    "\n",
    "    Parameters:\n",
    "        usd (float): Value in US Dollars\n",
    "    \n",
    "    Returns:\n",
    "        eur (float): Converted Value\n",
    "    '''\n",
    "    url = \"https://cdn.jsdelivr.net/npm/@fawazahmed0/currency-api@latest/v1/currencies/usd.json\"\n",
    "\n",
    "    body = requests.get(\n",
    "        url,\n",
    "        headers={\n",
    "            \"Content-type\": \"application/json\",\n",
    "        },\n",
    "    )\n",
    "    body.raise_for_status()\n",
    "    json_data = body.json()\n",
    "    if 'usd' not in json_data.keys() or 'eur' not in json_data['usd'].keys():\n",
    "        raise IndexError(\"Could not convert USD to EUR.\")\n",
    "    eur_rate = json_data['usd']['eur']\n",
    "\n",
    "    return usd * eur_rate\n",
    "\n",
    "us_dollars = float(input(\"Input currency in USD:\"))\n",
    "print(\"Making request!\")\n",
    "euros = convert_usd_to_eur(usd=us_dollars)\n",
    "print(f\"{us_dollars} USD is {euros:.2f} EUR\")"
   ]
  }
 ],
 "metadata": {
  "kernelspec": {
   "display_name": ".venv",
   "language": "python",
   "name": "python3"
  },
  "language_info": {
   "codemirror_mode": {
    "name": "ipython",
    "version": 3
   },
   "file_extension": ".py",
   "mimetype": "text/x-python",
   "name": "python",
   "nbconvert_exporter": "python",
   "pygments_lexer": "ipython3",
   "version": "3.9.6"
  }
 },
 "nbformat": 4,
 "nbformat_minor": 2
}
