{
 "cells": [
  {
   "cell_type": "markdown",
   "metadata": {},
   "source": [
    "1. Write a function called square that takes a number as an argument and returns the square of that number.\n",
    "2. Write a function called max_num that takes two numbers as arguments and returns the larger of the two numbers.\n",
    "3. Write a function called calculate_tax that takes a salary as an argument and returns the amount of tax that should be paid based on the following tax brackets:\n",
    "    - Income up to €20,000: 0% tax\n",
    "    - Income from €20,001 to €50,000: 10% tax\n",
    "    - Income from €50,001 to €100,000: 20% tax\n",
    "    - Income above €100,000: 30% tax\n",
    "4. Write a function called reverse_string that takes a string as an argument and returns the string in reverse order.\n",
    "5. Write a function called find_average that takes a list of numbers as an argument and returns the average of those numbers.\n",
    "6. Currency exchange calculator. \n",
    "    - Read through https://github.com/fawazahmed0/currency-api#readme \n",
    "    - Connect to this API using Python requests package to convert currency exchange from Dollars to Euros"
   ]
  },
  {
   "cell_type": "code",
   "execution_count": 4,
   "metadata": {},
   "outputs": [
    {
     "name": "stdout",
     "output_type": "stream",
     "text": [
      "10,100\n"
     ]
    }
   ],
   "source": [
    "def square(number: int) -> int:\n",
    "    return number ** 2\n",
    "\n",
    "input_number = int(input(\"Enter a number to square\"))\n",
    "print(input_number, square(number=input_number), sep=\",\")"
   ]
  },
  {
   "cell_type": "code",
   "execution_count": 5,
   "metadata": {},
   "outputs": [
    {
     "name": "stdout",
     "output_type": "stream",
     "text": [
      "Maximum of 23 and 35 is 35\n"
     ]
    }
   ],
   "source": [
    "def max_num(a: int, b: int) -> int:\n",
    "    return max(a, b)\n",
    "\n",
    "number1 = int(input(\"Enter number 1: \"))\n",
    "number2 = int(input(\"Enter number 2: \"))\n",
    "\n",
    "print(f\"Maximum of {number1} and {number2} is {max_num(number1, number2)}\")"
   ]
  },
  {
   "cell_type": "code",
   "execution_count": 9,
   "metadata": {},
   "outputs": [
    {
     "name": "stdout",
     "output_type": "stream",
     "text": [
      "For salary of 67000\n",
      "You pay 20% tax\n"
     ]
    }
   ],
   "source": [
    "def calculate_tax(salary: int):\n",
    "    print(f\"For salary of {salary}\")\n",
    "    if salary <= 20_000:\n",
    "        print(\"You pay 0% tax\")\n",
    "    elif salary in range(20_001, 50_001):\n",
    "        print(\"You pay 10% tax\")\n",
    "    elif salary in range(50_001, 100_001):\n",
    "        print(\"You pay 20% tax\")\n",
    "    else:\n",
    "        print(\"You pay 30% tax\")\n",
    "\n",
    "salary = int(input(\"Enter your salary:\"))\n",
    "calculate_tax(salary=salary)"
   ]
  },
  {
   "cell_type": "code",
   "execution_count": 13,
   "metadata": {},
   "outputs": [
    {
     "name": "stdout",
     "output_type": "stream",
     "text": [
      "Brother\n",
      "rehtorB\n"
     ]
    }
   ],
   "source": [
    "def reverse_string(input_string: str):\n",
    "    print(input_string)\n",
    "    reversed_value = reversed(input_string)\n",
    "    reversed_string = \"\".join(reversed_value)\n",
    "    print(reversed_string)\n",
    "\n",
    "input_string = input(\"Enter something:\")\n",
    "reverse_string(input_string)"
   ]
  },
  {
   "cell_type": "code",
   "execution_count": 17,
   "metadata": {},
   "outputs": [
    {
     "name": "stdout",
     "output_type": "stream",
     "text": [
      "Average of [10, 23, 45, 77] is 38.75\n"
     ]
    }
   ],
   "source": [
    "numbers_list = list(map(lambda e: int(e), input(\"Enter list of numbers\").split(\" \")))\n",
    "numbers_list.sort()\n",
    "numbers_sum = sum(numbers_list)\n",
    "average = numbers_sum / len(numbers_list)\n",
    "\n",
    "print(f\"Average of {numbers_list} is {average}\")"
   ]
  }
 ],
 "metadata": {
  "kernelspec": {
   "display_name": ".venv",
   "language": "python",
   "name": "python3"
  },
  "language_info": {
   "codemirror_mode": {
    "name": "ipython",
    "version": 3
   },
   "file_extension": ".py",
   "mimetype": "text/x-python",
   "name": "python",
   "nbconvert_exporter": "python",
   "pygments_lexer": "ipython3",
   "version": "3.9.6"
  }
 },
 "nbformat": 4,
 "nbformat_minor": 2
}
