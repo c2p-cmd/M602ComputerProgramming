{
 "cells": [
  {
   "cell_type": "markdown",
   "metadata": {},
   "source": [
    "## Python programming further exercises\n",
    "\n",
    "Some further, more advanced Python exercises to practice additional aspects of Python programming, including decorators, generators and web scraping. Please note, these are purely supplementary and do no contribute to your overall grade.\n",
    "\n",
    "- **Exercise 1**: Prime Number Generator - Write a generator function called prime_generator that generates prime numbers. The generator should yield the next prime number each time it is called. Use the Sieve of Eratosthenes algorithm to efficiently generate prime numbers.\n",
    "\n",
    "- **Exercise 2**: Decorator for Logging Function Calls - Create a decorator called log_function_calls that logs the details of each function call. The decorator should print the function name, the arguments passed to the function, and the return value of the function. Apply this decorator to a few sample functions and observe the logged output when calling those functions.\n",
    "\n",
    "- **Exercise 3**: File Encryption/Decryption using Context Managers - Implement a context manager called encrypt_file that encrypts the contents of a file and a context manager called decrypt_file that decrypts the contents of a file. Use symmetric encryption algorithms like AES or DES to perform the encryption and decryption. Use the context managers to encrypt a file and then decrypt it to verify the data integrity.\n",
    "\n",
    "- **Exercise 4**: Custom Iterator for Fibonacci Sequence - Create a custom iterator class called FibonacciIterator that generates the Fibonacci sequence. The iterator should return the next number in the sequence each time it is called. Implement the iter() and next() methods in the class to define the iterator behavior. Test the iterator by iterating over it and printing the Fibonacci numbers up to a specified limit.\n",
    "\n",
    "- **Exercise 5**: Web Scraper - Write a Python script that uses the Beautiful Soup or Selenium library to scrape data from a website. Choose a website of your choice and write code to extract specific information from the web page, such as headlines, article titles, or product prices. Use Beautiful Soup to parse the HTML content and retrieve the desired information."
   ]
  },
  {
   "cell_type": "code",
   "execution_count": 1,
   "metadata": {},
   "outputs": [
    {
     "name": "stdout",
     "output_type": "stream",
     "text": [
      "Following are the prime numbers smaller than or equal to 30\n"
     ]
    },
    {
     "data": {
      "text/plain": [
       "[2, 3, 5, 7, 11, 13, 17, 19, 23, 29]"
      ]
     },
     "execution_count": 1,
     "metadata": {},
     "output_type": "execute_result"
    }
   ],
   "source": [
    "def prime_generator(number: int):\n",
    "    # initialize\n",
    "    primes = [True for _ in range(number+1)]\n",
    "    p = 2\n",
    "    while p*p <= number:\n",
    "        if primes[p]:\n",
    "            for i in range(p*p, number+1, p):\n",
    "                primes[i] = False\n",
    "        p += 1\n",
    "    \n",
    "    for p in range(2, number+1):\n",
    "        if primes[p]:\n",
    "            yield p\n",
    "\n",
    "n = 30\n",
    "print(\"Following are the prime numbers smaller than or equal to\", n)\n",
    "list(prime_generator(number=n))"
   ]
  },
  {
   "cell_type": "code",
   "execution_count": 2,
   "metadata": {},
   "outputs": [
    {
     "name": "stdout",
     "output_type": "stream",
     "text": [
      "Function name: func1\n",
      "Arguments: (), Keyword Arguments: {}\n",
      "Hello?\n",
      "Execution complete\n",
      "\n",
      "Function name: func2\n",
      "Arguments: ('Sumit',), Keyword Arguments: {}\n",
      "Wassup? Sumit\n",
      "Execution complete\n"
     ]
    }
   ],
   "source": [
    "def show_function_info(func):\n",
    "    def wrapper(*args, **kwargs):\n",
    "        print(f\"Function name: {func.__name__}\")\n",
    "        print(f\"Arguments: {args}, Keyword Arguments: {kwargs}\")\n",
    "        value = func(*args, **kwargs)\n",
    "        print(\"Execution complete\")\n",
    "        return value\n",
    "    return wrapper\n",
    "\n",
    "@show_function_info\n",
    "def func1():\n",
    "    print(\"Hello?\")\n",
    "\n",
    "@show_function_info\n",
    "def func2(name: str):\n",
    "    print(f\"Wassup? {name}\")\n",
    "\n",
    "func1()\n",
    "print(\"\")\n",
    "func2(\"Sumit\")"
   ]
  },
  {
   "cell_type": "code",
   "execution_count": 3,
   "metadata": {},
   "outputs": [
    {
     "data": {
      "text/plain": [
       "[0, 1, 1, 2, 3, 5, 8, 13, 21, 34, 55, 89]"
      ]
     },
     "execution_count": 3,
     "metadata": {},
     "output_type": "execute_result"
    }
   ],
   "source": [
    "class FibonacciIterator:\n",
    "    def __init__(self, n: int):\n",
    "        if n <= 0:\n",
    "            raise Exception(\"Invalid input for Fibonacci sequence\")\n",
    "        self.n = n\n",
    "\n",
    "    def __iter__(self):\n",
    "        self.a = 0\n",
    "        self.b = 1\n",
    "        self.count = 0\n",
    "        return self\n",
    "\n",
    "    def __next__(self):\n",
    "        if self.count >= self.n:\n",
    "            raise StopIteration\n",
    "        elif self.count == 0:\n",
    "            self.count += 1\n",
    "            return self.a\n",
    "        elif self.count == 1:\n",
    "            self.count += 1\n",
    "            return self.b\n",
    "        else:\n",
    "            fib = self.a + self.b\n",
    "            self.a, self.b = self.b, fib\n",
    "            self.count += 1\n",
    "            return fib\n",
    "\n",
    "# Example usage\n",
    "[v for v in FibonacciIterator(n=12)]"
   ]
  },
  {
   "cell_type": "code",
   "execution_count": 4,
   "metadata": {},
   "outputs": [
    {
     "name": "stderr",
     "output_type": "stream",
     "text": [
      "/Users/captain-mac/Documents/GISMA/ComputerProgramming/Coding/.venv/lib/python3.9/site-packages/urllib3/__init__.py:35: NotOpenSSLWarning: urllib3 v2 only supports OpenSSL 1.1.1+, currently the 'ssl' module is compiled with 'LibreSSL 2.8.3'. See: https://github.com/urllib3/urllib3/issues/3020\n",
      "  warnings.warn(\n"
     ]
    },
    {
     "name": "stdout",
     "output_type": "stream",
     "text": [
      "1. Trump and Harris target crucial southern states in frenzied last days of race\n",
      "2. ‘The energy, the vibe, it feels like family’ – the mood at an election rally\n",
      "3. Trump and Harris target crucial southern states in frenzied last days of race\n",
      "4. ‘The energy, the vibe, it feels like family’ – the mood at an election rally\n",
      "5. How Donald Trump came back from the political abyss\n",
      "6. ‘No-one is helping us’: Anger in flood-hit Valencia as Spain deploys more troops\n",
      "7. Badenoch promises change after historic Tory leadership win\n",
      "8. Kim Jong Un is China's ally - but has become the 'comrade from hell'\n",
      "9. The deadly diseases that sweep in after hurricanes\n",
      "10. Inside the US island ruled by alien snakes and spiders\n",
      "11. How female action stars have wowed since the silent era\n",
      "12. Premier League: Bournemouth double lead v Man City, Liverpool equalise, Forest & Ipswich ahead\n",
      "13. The rebel painter who ushered in a new era of Indian art\n",
      "14. Swapped at birth: How a DNA test changed two women's lives\n",
      "15. World's largest crocodile in captivity dies\n",
      "16. Ex-officer found guilty in death of Breonna Taylor\n",
      "17. Korea's T1 clinches second game to level the Legends Worlds Finals\n",
      "18. Swapped at birth: How a DNA test changed two women's lives\n",
      "19. Politicians not ambitious enough to save nature, say scientists\n",
      "20. Iran's supreme leader says enemies will receive 'crushing response'\n",
      "21. World's largest crocodile in captivity dies\n",
      "22. The secret world of Europe's largest hippie commune\n",
      "23. Where the Amish go on holiday\n",
      "24. Why Australians love going barefoot\n",
      "25. The spongy creatures cleaning Zanzibar's oceans\n",
      "26. The country with earliest wake-up time in the world\n",
      "27. Antarctica: The most remote campsite on Earth\n",
      "28. Mexico revives a 3,000-year-old ball game\n",
      "29. Cape Verde's stunning salt mines\n",
      "30. 12 of the best films to watch this November\n",
      "31. 11 of the best TV shows to watch in November\n",
      "32. The changing face of Mongolia\n",
      "33. How children respond to daylight savings time shifts\n",
      "34. Different lives - Harris and Trump as you've never seen them before\n",
      "35. US election polls: Who is ahead - Harris or Trump?\n",
      "36. Listen: The Coming Storm - Wonderland\n",
      "37. Listen: The Global Story - America and the Middle East\n",
      "38. Dublin Halloween parade listing a 'mistake': website owner\n",
      "39. Prince Andrew's funding cut off by King, says book\n",
      "40. Spain's PM orders 10,000 troops and police to flood-hit Valencia\n",
      "41. Living with Nigeria's blackouts - six weeks, no power\n",
      "42. Premier League: Bournemouth double lead v Man City, Liverpool equalise, Forest & Ipswich ahead\n",
      "43. Feyi-Waboso try gives England lead over New Zealand - radio & text\n",
      "44. Hope leads West Indies towards big total against England\n",
      "45. Farnworth inspires England to series win over Samoa - reaction\n",
      "46. US jobs growth slows sharply as election looms\n",
      "47. Boeing raises pay offer in bid to end seven-week strike\n",
      "48. How Japan's youngest CEO transformed Hello Kitty\n",
      "49. US election bets surge, despite red flags and mixed record\n",
      "50. How Google tells you what you want to hear\n",
      "51. Monkeys will never type Shakespeare, study finds\n",
      "52. An eco-friendly plant-based alternative to plastic\n",
      "53. Snapchat most-used app for grooming, says UK charity\n",
      "54. A look inside Michelangelo's 'secret room'\n",
      "55. How female action stars have wowed since the silent era\n",
      "56. The rebel painter who ushered in a new era of Indian art\n",
      "57. Netflix star wants to speak to her son in Welsh\n",
      "58. A look inside Michelangelo's 'secret room'\n",
      "59. Where to get the best street food in Oaxaca City\n",
      "60. The changing face of Mongolia\n",
      "61. The town aiming to become the world's 'ecotourism capital'\n",
      "62. The curious appeal of haunted hotels\n",
      "63. UK student's ‘shocking’ microplastic research prompts review\n",
      "64. Spain floods: Before and after images show devastation\n",
      "65. Study reveals 14 bat species on safari park estate\n",
      "66. Spain mourns as death toll passes 150 in catastrophic floods\n",
      "67. Father penguin uses unique call to distinguish chick\n",
      "68. Bulgaria's valley of Thracian Kings and Damask roses\n",
      "69. The Bahamas: The last lighthouse of its kind\n",
      "70. Protecting Thailand's famous 'paradise beach'\n",
      "71. World of Business\n",
      "72. US Election Unspun\n",
      "73. The Essential List\n",
      "74. News Briefing\n",
      "75. 'A lot of women are rising up': Harris' hopes hinge on female vote\n",
      "76. Could US election change protection America offers Europe?\n",
      "77. US officials say Russians faked 'Haitian voters' video\n",
      "78. Trump courts divided Arab-American voters in must-win Michigan\n",
      "79. Polio vaccinations restart in north Gaza\n",
      "80. Dissenting officials demand probe of Americans killed in West Bank, Gaza\n",
      "81. What happened to the young girl captured in a photograph of Gaza detainees\n",
      "82. Radiohead singer confronts Gaza protester at Australian gig\n",
      "83. The pick-ups 'saving  lives on the front line' in Ukraine\n",
      "84. Funeral for ex-soldier who fought in Ukraine\n",
      "85. US election weighs on Ukraine's frontline soldiers\n",
      "86. Russian drones hunt civilians, evidence suggests\n",
      "87. 'A classic left-right era': Labour's big Budget and Badenoch's win reset politics\n",
      "88. The real reason for the rise in male childlessness\n",
      "89. What this election means for the rest of the world\n",
      "90. Why tuition fees are set to rise - and what this means for students\n"
     ]
    }
   ],
   "source": [
    "import requests\n",
    "from bs4 import BeautifulSoup\n",
    "\n",
    "def scrape_headlines():\n",
    "    url = \"https://www.bbc.com\"\n",
    "    \n",
    "    response = requests.get(url)\n",
    "    response.raise_for_status() \n",
    "    \n",
    "    soup = BeautifulSoup(response.text, 'html.parser')\n",
    "    \n",
    "    headlines = [headline.get_text(strip=True) for headline in soup.find_all('h2', attrs={'data-testid': \"card-headline\"})]\n",
    "    \n",
    "    for idx, title in enumerate(headlines, 1):\n",
    "        print(f\"{idx}. {title}\")\n",
    "\n",
    "scrape_headlines()"
   ]
  }
 ],
 "metadata": {
  "kernelspec": {
   "display_name": ".venv",
   "language": "python",
   "name": "python3"
  },
  "language_info": {
   "codemirror_mode": {
    "name": "ipython",
    "version": 3
   },
   "file_extension": ".py",
   "mimetype": "text/x-python",
   "name": "python",
   "nbconvert_exporter": "python",
   "pygments_lexer": "ipython3",
   "version": "3.9.6"
  }
 },
 "nbformat": 4,
 "nbformat_minor": 2
}
