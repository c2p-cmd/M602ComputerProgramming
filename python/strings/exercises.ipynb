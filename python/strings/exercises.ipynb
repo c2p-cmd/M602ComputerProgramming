{
 "cells": [
  {
   "cell_type": "markdown",
   "metadata": {},
   "source": [
    "1. Counting Characters - Write a function that takes a string as input and uses the count) method to count the number of occurrences of a specific character in the string.\n",
    "\n",
    "2. Checking Substring Presence - Write a function that takes a string as input and uses the in operator to check whether a specific substring is present in the string.\n",
    "\n",
    "3. Changing Case - Write a function that takes a string as input and uses the lower) and upper() methods to convert the string to lowercase and uppercase, respectively.\n",
    "\n",
    "4. Splitting and Joining Strings - Write a function that takes a string as input and uses the split() method to split the string into a list of words. Then, use the join() method to concatenate the words back into a single string with a specific delimiter.\n",
    "\n",
    "5. Removing Whitespace - Write a function that takes a string as input and uses the strip) method to remove leading and trailing whitespace from the string."
   ]
  },
  {
   "cell_type": "code",
   "execution_count": 1,
   "metadata": {},
   "outputs": [
    {
     "data": {
      "text/plain": [
       "(3, 0)"
      ]
     },
     "execution_count": 1,
     "metadata": {},
     "output_type": "execute_result"
    }
   ],
   "source": [
    "'''\n",
    "counting characters\n",
    "'''\n",
    "def counting_characters(text: str, char: str) -> int:\n",
    "    return text.count(char)\n",
    "\n",
    "\n",
    "counting_characters(text=\"Welcome to the jungle of the Treehouse\", char='t'), counting_characters(text=\"Welcome to the jungle of the Treehouse\", char='z')"
   ]
  },
  {
   "cell_type": "code",
   "execution_count": 2,
   "metadata": {},
   "outputs": [
    {
     "data": {
      "text/plain": [
       "(True, False)"
      ]
     },
     "execution_count": 2,
     "metadata": {},
     "output_type": "execute_result"
    }
   ],
   "source": [
    "'''\n",
    "substring presence\n",
    "'''\n",
    "def substring_presence(text: str, sub_string: str) -> bool:\n",
    "    return sub_string in text\n",
    "\n",
    "substring_presence(\"Jungle book\", sub_string='ung'), substring_presence(\"Jungle book\", sub_string='unx')"
   ]
  },
  {
   "cell_type": "code",
   "execution_count": 3,
   "metadata": {},
   "outputs": [
    {
     "data": {
      "text/plain": [
       "'i SEE ONE big fly'"
      ]
     },
     "execution_count": 3,
     "metadata": {},
     "output_type": "execute_result"
    }
   ],
   "source": [
    "'''\n",
    "changing case\n",
    "'''\n",
    "def toggle_case(text: str) -> str:\n",
    "    new_text = ''\n",
    "    for char in text:\n",
    "        if char.isupper():\n",
    "            new_text += char.lower()\n",
    "            continue\n",
    "        \n",
    "        new_text += char.upper()\n",
    "    return new_text\n",
    "\n",
    "toggle_case(\"I see one BIG FLY\")"
   ]
  },
  {
   "cell_type": "code",
   "execution_count": 7,
   "metadata": {},
   "outputs": [
    {
     "data": {
      "text/plain": [
       "((['One', 'world,', 'one', 'night'], 'One+world,+one+night'),\n",
       " (['One', 'world,', 'one', 'night'], 'One_world,_one_night'))"
      ]
     },
     "execution_count": 7,
     "metadata": {},
     "output_type": "execute_result"
    }
   ],
   "source": [
    "'''\n",
    "Splitting and joining strings\n",
    "'''\n",
    "def split_and_join(text: str, delimiter: str = '+') -> tuple[str]:\n",
    "    words = text.split(' ')\n",
    "    joined = delimiter.join(words)\n",
    "    return words, joined\n",
    "\n",
    "split_and_join('One world, one night'), split_and_join('One world, one night', delimiter='_')"
   ]
  },
  {
   "cell_type": "code",
   "execution_count": 5,
   "metadata": {},
   "outputs": [
    {
     "data": {
      "text/plain": [
       "'Magical night'"
      ]
     },
     "execution_count": 5,
     "metadata": {},
     "output_type": "execute_result"
    }
   ],
   "source": [
    "'''\n",
    "removing whitespace\n",
    "'''\n",
    "def remove_whitespace(text: str) -> str:\n",
    "    return text.strip()\n",
    "\n",
    "remove_whitespace('   Magical night        ')"
   ]
  }
 ],
 "metadata": {
  "kernelspec": {
   "display_name": ".venv",
   "language": "python",
   "name": "python3"
  },
  "language_info": {
   "codemirror_mode": {
    "name": "ipython",
    "version": 3
   },
   "file_extension": ".py",
   "mimetype": "text/x-python",
   "name": "python",
   "nbconvert_exporter": "python",
   "pygments_lexer": "ipython3",
   "version": "3.9.6"
  }
 },
 "nbformat": 4,
 "nbformat_minor": 2
}
