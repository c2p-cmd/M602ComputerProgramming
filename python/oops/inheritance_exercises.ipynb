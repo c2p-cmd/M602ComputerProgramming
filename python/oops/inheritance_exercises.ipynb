{
 "cells": [
  {
   "cell_type": "markdown",
   "metadata": {},
   "source": [
    "### Class inheritance exercises\n",
    "\n",
    "1. Create a class called Animal with a method speak that prints \"I am an animal.\"\n",
    "    - Create a subclass called Dog that overrides the speak method to print \"I am a dog.\"\n",
    "2. Create a parent class called Shape with a method area that returns the area of the shape as 0.\n",
    "    - Then create two child classes Rectangle and Triangle that inherit from Shape.\n",
    "    - Override the area method in each child class to calculate and return the area of a rectangle and a triangle, respectively.\n",
    "3. Create a parent class called Vehicle with attributes make and model.\n",
    "    - Implement a method get info that returns a string containing the make and model of the vehicle.\n",
    "    - Then create two child classes Car and Motorcycle that inherit from Vehicle.\n",
    "    - Add an additional attribute year to each child class.\n",
    "    - Override the get _ info method in each child class to include the year of the vehicle in the returned string.\n"
   ]
  },
  {
   "cell_type": "code",
   "execution_count": 1,
   "metadata": {},
   "outputs": [
    {
     "name": "stdout",
     "output_type": "stream",
     "text": [
      "I am an Animal\n",
      "I am a dog!\n"
     ]
    }
   ],
   "source": [
    "class Animal:\n",
    "    def speak(self):\n",
    "        print(\"I am an Animal\")\n",
    "\n",
    "class Dog(Animal):\n",
    "    def speak(self):\n",
    "        print(\"I am a dog!\")\n",
    "\n",
    "a = Animal()\n",
    "d = Dog()\n",
    "\n",
    "a.speak()\n",
    "d.speak()"
   ]
  },
  {
   "cell_type": "code",
   "execution_count": null,
   "metadata": {},
   "outputs": [
    {
     "name": "stdout",
     "output_type": "stream",
     "text": [
      "Area of Rectangle(w=10.5, h=11.5) = 120.75\n",
      "Area of Triangle(b=5, h=1.5) = 3.75\n"
     ]
    }
   ],
   "source": [
    "class Shape:\n",
    "    def area(self) -> float:\n",
    "        return 0.0\n",
    "    \n",
    "class Rectangle(Shape):\n",
    "    def __init__(self, width: float, height: float):\n",
    "        super().__init__()\n",
    "        self.width = width\n",
    "        self.height = height\n",
    "\n",
    "    def area(self):\n",
    "        return self.width * self.height\n",
    "    \n",
    "    def __str__(self):\n",
    "        return f\"Rectangle(w={self.width}, h={self.height})\"\n",
    "\n",
    "class Triangle(Shape):\n",
    "    def __init__(self, base: float, height: float):\n",
    "        super().__init__()\n",
    "        self.base = base\n",
    "        self.height = height\n",
    "    \n",
    "    def area(self):\n",
    "        return 0.5 * self.base * self.height\n",
    "    \n",
    "    def __str__(self):\n",
    "        return f\"Triangle(b={self.base}, h={self.height})\"\n",
    "\n",
    "r1 = Rectangle(width=10.5, height=11.5)\n",
    "print(f\"Area of {r1} = {r1.area()}\")\n",
    "\n",
    "t1 = Triangle(base=5, height=1.5)\n",
    "print(f\"Area of {t1} = {t1.area()}\")"
   ]
  },
  {
   "cell_type": "code",
   "execution_count": 3,
   "metadata": {},
   "outputs": [
    {
     "data": {
      "text/plain": [
       "'Vehicle BMW iX3'"
      ]
     },
     "execution_count": 3,
     "metadata": {},
     "output_type": "execute_result"
    }
   ],
   "source": [
    "class Vehicle:\n",
    "    def __init__(self, make: str, model: str):\n",
    "        self.make = make\n",
    "        self.model = model\n",
    "    \n",
    "    def get_info(self) -> str:\n",
    "        return f\"Vehicle {self.make} {self.model}\"\n",
    "\n",
    "class Car(Vehicle):\n",
    "    def __init__(self, make: str, model: str, year: int):\n",
    "        super().__init__(make, model)\n",
    "        self.year = year\n",
    "    \n",
    "    def get_info(self):\n",
    "        return f\"Car {self.make} {self.model} {self.year}\"\n",
    "\n",
    "class Motorcycle(Vehicle):\n",
    "    def __init__(self, make: str, model: str, year: int):\n",
    "        super().__init__(make, model)\n",
    "        self.year = year\n",
    "    \n",
    "    def get_info(self):\n",
    "        return f\"Motorcycle {self.make} {self.model} {self.year}\"\n",
    "\n",
    "v1 = Vehicle(\"BMW\", model=\"iX3\")\n",
    "v1.get_info()"
   ]
  },
  {
   "cell_type": "code",
   "execution_count": 4,
   "metadata": {},
   "outputs": [
    {
     "data": {
      "text/plain": [
       "'Car Tesla Roadstar 2024'"
      ]
     },
     "execution_count": 4,
     "metadata": {},
     "output_type": "execute_result"
    }
   ],
   "source": [
    "c1 = Car(\"Tesla\", model=\"Roadstar\", year=2024)\n",
    "c1.get_info()"
   ]
  },
  {
   "cell_type": "code",
   "execution_count": 5,
   "metadata": {},
   "outputs": [
    {
     "data": {
      "text/plain": [
       "'Motorcycle BMW 310 GS 2015'"
      ]
     },
     "execution_count": 5,
     "metadata": {},
     "output_type": "execute_result"
    }
   ],
   "source": [
    "m1 = Motorcycle(\"BMW\", model=\"310 GS\", year=2015)\n",
    "m1.get_info()"
   ]
  }
 ],
 "metadata": {
  "kernelspec": {
   "display_name": ".venv",
   "language": "python",
   "name": "python3"
  },
  "language_info": {
   "codemirror_mode": {
    "name": "ipython",
    "version": 3
   },
   "file_extension": ".py",
   "mimetype": "text/x-python",
   "name": "python",
   "nbconvert_exporter": "python",
   "pygments_lexer": "ipython3",
   "version": "3.9.6"
  }
 },
 "nbformat": 4,
 "nbformat_minor": 2
}
