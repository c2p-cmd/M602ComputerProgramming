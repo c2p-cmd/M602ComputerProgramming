{
 "cells": [
  {
   "cell_type": "markdown",
   "metadata": {},
   "source": [
    "1. Create a class called Person that has a name and age attribute. Add a method called greet that prints\n",
    "\"Hello, my name is {name} and I am {age} years old.\"\n",
    "\n",
    "2. Create a class called Rectangle that has width and height attributes. Add methods to calculate the\n",
    "area and perimeter of the rectangle.\n",
    "\n",
    "3. Create a class called BankAccount that has a balance attribute and methods to deposit and withdraw\n",
    "money from the account.\n",
    "\n",
    "4. Create a class called Car with make, model, and year attributes. Add a method called description\n",
    "that prints \"{year} {make} {model}\"."
   ]
  },
  {
   "cell_type": "code",
   "execution_count": 1,
   "metadata": {},
   "outputs": [
    {
     "name": "stdout",
     "output_type": "stream",
     "text": [
      "Hello my name is Sameer and I am 26 years old.\n"
     ]
    }
   ],
   "source": [
    "class Person:\n",
    "    \"\"\"\n",
    "    Creates instance of Person class with given name and age\n",
    "\n",
    "    Parameters:\n",
    "        - name (str)\n",
    "        - age (int) in years\n",
    "    \"\"\"\n",
    "    def __init__(self, name: str, age: int):\n",
    "        self.name = name\n",
    "        self.age = age\n",
    "    \n",
    "    \"\"\"\n",
    "    Method to allow person to greet themselves\n",
    "    \"\"\"\n",
    "    def greet(self):\n",
    "        print(f\"Hello my name is {self.name} and I am {self.age} years old.\")\n",
    "\n",
    "sameer = Person(name=\"Sameer\", age=26)\n",
    "sameer.greet()"
   ]
  },
  {
   "cell_type": "code",
   "execution_count": 2,
   "metadata": {},
   "outputs": [
    {
     "name": "stdout",
     "output_type": "stream",
     "text": [
      "Area of Rectangle(w=3, h=1.7) = 5.1\n",
      "Perimeter of Rectangle(w=3, h=1.7) = 9.4\n"
     ]
    }
   ],
   "source": [
    "class Rectangle:\n",
    "    \"\"\"\n",
    "    Creates instance of Rectangle class with given width and height\n",
    "\n",
    "    Parameters:\n",
    "        - width (float) in meters\n",
    "        - height (float) in meters\n",
    "    \"\"\"\n",
    "    def __init__(self, width: float, height: float):\n",
    "        self.width = width\n",
    "        self.height = height\n",
    "    \n",
    "    \"\"\"\n",
    "    Method to calculate area of the rectangle\n",
    "\n",
    "    Returns:\n",
    "        - area (float) in square meters\n",
    "    \"\"\"\n",
    "    def area(self) -> float:\n",
    "        return self.width * self.height\n",
    "    \n",
    "    \"\"\"\n",
    "    Method to calculate perimeter of the rectangle\n",
    "\n",
    "    Returns:\n",
    "        - perimeter (float) in meters\n",
    "    \"\"\"\n",
    "    def perimeter(self) -> float:\n",
    "        return (self.height + self.width) * 2\n",
    "    \n",
    "    def __str__(self) -> str:\n",
    "        return f\"Rectangle(w={self.width}, h={self.height})\"\n",
    "\n",
    "\n",
    "r1 = Rectangle(width=3, height=1.7)\n",
    "print(f\"Area of {r1} = {r1.area()}\")\n",
    "print(f\"Perimeter of {r1} = {r1.perimeter()}\")"
   ]
  },
  {
   "cell_type": "code",
   "execution_count": 3,
   "metadata": {},
   "outputs": [
    {
     "name": "stdout",
     "output_type": "stream",
     "text": [
      "Current: None\n",
      "Removing 1000 = None\n",
      "Current: None\n",
      "Adding 100 = None\n"
     ]
    }
   ],
   "source": [
    "class BankAccount:\n",
    "    def __init__(self, initial_balance: float):\n",
    "        self.__balance = initial_balance\n",
    "    \n",
    "    def get_balance(self) -> float:\n",
    "        self.__balance\n",
    "    \n",
    "    def withdraw(self, amount: float):\n",
    "        if amount <= 0:\n",
    "            raise Exception(\"Invalid amount to withdraw\")\n",
    "        \n",
    "        if self.__balance - amount < 0:\n",
    "            raise Exception(\"Cannot have negative balance\")\n",
    "        \n",
    "        self.__balance -= amount\n",
    "\n",
    "    \n",
    "    def deposit(self, amount: float) -> float:\n",
    "        if amount <= 0:\n",
    "            raise Exception(\"Invalid amount to deposit\")\n",
    "        \n",
    "        self.__balance += amount\n",
    "    \n",
    "\n",
    "acc1 = BankAccount(initial_balance=10_000)\n",
    "\n",
    "print(f\"Current: {acc1.get_balance()}\")\n",
    "print(f\"Removing 1000 = {acc1.withdraw(1000)}\")\n",
    "print(f\"Current: {acc1.get_balance()}\")\n",
    "print(f\"Adding 100 = {acc1.deposit(100)}\")"
   ]
  },
  {
   "cell_type": "code",
   "execution_count": 4,
   "metadata": {},
   "outputs": [
    {
     "ename": "Exception",
     "evalue": "Cannot have negative balance",
     "output_type": "error",
     "traceback": [
      "\u001b[0;31m---------------------------------------------------------------------------\u001b[0m",
      "\u001b[0;31mException\u001b[0m                                 Traceback (most recent call last)",
      "Cell \u001b[0;32mIn[4], line 1\u001b[0m\n\u001b[0;32m----> 1\u001b[0m \u001b[38;5;28mprint\u001b[39m(\u001b[38;5;124mf\u001b[39m\u001b[38;5;124m\"\u001b[39m\u001b[38;5;124mRemoving 1,00,000 = \u001b[39m\u001b[38;5;132;01m{\u001b[39;00macc1\u001b[38;5;241m.\u001b[39mwithdraw(\u001b[38;5;241m1_00_000\u001b[39m)\u001b[38;5;132;01m}\u001b[39;00m\u001b[38;5;124m\"\u001b[39m)\n",
      "Cell \u001b[0;32mIn[3], line 13\u001b[0m, in \u001b[0;36mBankAccount.withdraw\u001b[0;34m(self, amount)\u001b[0m\n\u001b[1;32m     10\u001b[0m     \u001b[38;5;28;01mraise\u001b[39;00m \u001b[38;5;167;01mException\u001b[39;00m(\u001b[38;5;124m\"\u001b[39m\u001b[38;5;124mInvalid amount to withdraw\u001b[39m\u001b[38;5;124m\"\u001b[39m)\n\u001b[1;32m     12\u001b[0m \u001b[38;5;28;01mif\u001b[39;00m \u001b[38;5;28mself\u001b[39m\u001b[38;5;241m.\u001b[39m__balance \u001b[38;5;241m-\u001b[39m amount \u001b[38;5;241m<\u001b[39m \u001b[38;5;241m0\u001b[39m:\n\u001b[0;32m---> 13\u001b[0m     \u001b[38;5;28;01mraise\u001b[39;00m \u001b[38;5;167;01mException\u001b[39;00m(\u001b[38;5;124m\"\u001b[39m\u001b[38;5;124mCannot have negative balance\u001b[39m\u001b[38;5;124m\"\u001b[39m)\n\u001b[1;32m     15\u001b[0m \u001b[38;5;28mself\u001b[39m\u001b[38;5;241m.\u001b[39m__balance \u001b[38;5;241m-\u001b[39m\u001b[38;5;241m=\u001b[39m amount\n",
      "\u001b[0;31mException\u001b[0m: Cannot have negative balance"
     ]
    }
   ],
   "source": [
    "print(f\"Removing 1,00,000 = {acc1.withdraw(1_00_000)}\")"
   ]
  },
  {
   "cell_type": "code",
   "execution_count": 5,
   "metadata": {},
   "outputs": [
    {
     "ename": "Exception",
     "evalue": "Invalid amount to deposit",
     "output_type": "error",
     "traceback": [
      "\u001b[0;31m---------------------------------------------------------------------------\u001b[0m",
      "\u001b[0;31mException\u001b[0m                                 Traceback (most recent call last)",
      "Cell \u001b[0;32mIn[5], line 1\u001b[0m\n\u001b[0;32m----> 1\u001b[0m \u001b[38;5;28mprint\u001b[39m(\u001b[38;5;124mf\u001b[39m\u001b[38;5;124m\"\u001b[39m\u001b[38;5;124mAdding -10 = \u001b[39m\u001b[38;5;132;01m{\u001b[39;00macc1\u001b[38;5;241m.\u001b[39mdeposit(\u001b[38;5;241m-\u001b[39m\u001b[38;5;241m10\u001b[39m)\u001b[38;5;132;01m}\u001b[39;00m\u001b[38;5;124m\"\u001b[39m)\n",
      "Cell \u001b[0;32mIn[3], line 20\u001b[0m, in \u001b[0;36mBankAccount.deposit\u001b[0;34m(self, amount)\u001b[0m\n\u001b[1;32m     18\u001b[0m \u001b[38;5;28;01mdef\u001b[39;00m \u001b[38;5;21mdeposit\u001b[39m(\u001b[38;5;28mself\u001b[39m, amount: \u001b[38;5;28mfloat\u001b[39m) \u001b[38;5;241m-\u001b[39m\u001b[38;5;241m>\u001b[39m \u001b[38;5;28mfloat\u001b[39m:\n\u001b[1;32m     19\u001b[0m     \u001b[38;5;28;01mif\u001b[39;00m amount \u001b[38;5;241m<\u001b[39m\u001b[38;5;241m=\u001b[39m \u001b[38;5;241m0\u001b[39m:\n\u001b[0;32m---> 20\u001b[0m         \u001b[38;5;28;01mraise\u001b[39;00m \u001b[38;5;167;01mException\u001b[39;00m(\u001b[38;5;124m\"\u001b[39m\u001b[38;5;124mInvalid amount to deposit\u001b[39m\u001b[38;5;124m\"\u001b[39m)\n\u001b[1;32m     22\u001b[0m     \u001b[38;5;28mself\u001b[39m\u001b[38;5;241m.\u001b[39m__balance \u001b[38;5;241m+\u001b[39m\u001b[38;5;241m=\u001b[39m amount\n",
      "\u001b[0;31mException\u001b[0m: Invalid amount to deposit"
     ]
    }
   ],
   "source": [
    "print(f\"Adding -10 = {acc1.deposit(-10)}\")"
   ]
  },
  {
   "cell_type": "code",
   "execution_count": null,
   "metadata": {},
   "outputs": [
    {
     "name": "stdout",
     "output_type": "stream",
     "text": [
      "Car 1989 Porsche 911, 964 generation\n"
     ]
    }
   ],
   "source": [
    "class Car:\n",
    "    def __init__(self, year: int, make: str, model: str):\n",
    "        self.year = year\n",
    "        self.make = make\n",
    "        self.model = model\n",
    "\n",
    "    def description(self):\n",
    "        print(f\"Car {self.year} {self.make} {self.model}\")\n",
    "\n",
    "porsche_911_964 = Car(1989, make=\"Porsche\", model=\"911, 964 generation\")\n",
    "porsche_911_964.description()"
   ]
  }
 ],
 "metadata": {
  "kernelspec": {
   "display_name": ".venv",
   "language": "python",
   "name": "python3"
  },
  "language_info": {
   "codemirror_mode": {
    "name": "ipython",
    "version": 3
   },
   "file_extension": ".py",
   "mimetype": "text/x-python",
   "name": "python",
   "nbconvert_exporter": "python",
   "pygments_lexer": "ipython3",
   "version": "3.9.6"
  }
 },
 "nbformat": 4,
 "nbformat_minor": 2
}
