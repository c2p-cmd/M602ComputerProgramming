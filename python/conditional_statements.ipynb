{
 "cells": [
  {
   "cell_type": "markdown",
   "metadata": {},
   "source": [
    "1. Write a script which will take the users name (using the input) function and do the following:\n",
    "    1. If the user's name is \"James Bond\", then print \"We've been expecting you, Mr Bond (hint: case sensitivity)\n",
    "    2. Otherwise it should say \"Access Denied: NAME\", replacing NAME with the user's input. (hint: f-strings)"
   ]
  },
  {
   "cell_type": "code",
   "execution_count": 5,
   "metadata": {},
   "outputs": [
    {
     "name": "stdout",
     "output_type": "stream",
     "text": [
      "Access Denied: James dond\n",
      "We have been expecting you, Mr. Bond\n"
     ]
    }
   ],
   "source": [
    "def authenticate(user_name: str):\n",
    "    if user_name == 'James Bond':\n",
    "        print(\"We have been expecting you, Mr. Bond\")\n",
    "    else:\n",
    "        print(f\"Access Denied: {user_name}\")\n",
    "\n",
    "authenticate(user_name=input(\"Enter your name: \"))\n",
    "authenticate(user_name=input(\"Enter your name: \"))"
   ]
  },
  {
   "cell_type": "markdown",
   "metadata": {},
   "source": [
    "2. Write a script to check if an entered value is an integer or a float, if its a float return the decimal component of the number."
   ]
  },
  {
   "cell_type": "code",
   "execution_count": 11,
   "metadata": {},
   "outputs": [
    {
     "name": "stdout",
     "output_type": "stream",
     "text": [
      "Fraction of 23.4 is 0.3999999999999986\n"
     ]
    }
   ],
   "source": [
    "from math import floor\n",
    "def check_number(number: float):\n",
    "    whole = floor(number)\n",
    "    fraction = number - whole\n",
    "\n",
    "    if fraction <= 0:\n",
    "        print(f\"Integer: {number}\")\n",
    "    else:\n",
    "        print(f\"Fraction of {number} is {fraction}\")\n",
    "    \n",
    "\n",
    "check_number(number=float(input(\"Enter a number: \")))"
   ]
  },
  {
   "cell_type": "markdown",
   "metadata": {},
   "source": [
    "3. Imagine you're building a password management system. Write a Python program that prompts the user to enter a list of passwords. For  each password, check its strength based on the following criteria:\n",
    "    1. If the password length is less than 8 characters, print a message saying \"Weak password: too short\" and continue to the next password.\n",
    "    2. If the password contains at least one uppercase letter, one lowercase letter, and one digit, print a message saying \"Strong password!\" and break out of the loop.\n",
    "    3. If none of the above conditions are met, print a message saying \"Moderate password: missing character types\" and pass to the next password."
   ]
  },
  {
   "cell_type": "code",
   "execution_count": 23,
   "metadata": {},
   "outputs": [
    {
     "name": "stdout",
     "output_type": "stream",
     "text": [
      "Weak password: too short\n",
      "Moderate password: missing character types\n",
      "Strong password!\n"
     ]
    }
   ],
   "source": [
    "def is_strong_password(password: str) -> bool:\n",
    "    has_digit = False\n",
    "    has_upper = False\n",
    "    has_lower = False\n",
    "    for c in password:\n",
    "        if c.isdigit():\n",
    "            has_digit = True\n",
    "        elif c.islower():\n",
    "            has_lower = True\n",
    "        elif c.isupper():\n",
    "            has_upper = True\n",
    "        \n",
    "        # early breakout\n",
    "        if has_digit and has_lower and has_upper:\n",
    "            return True\n",
    "\n",
    "    return False\n",
    "\n",
    "def analyze_password_strength(password: str) -> str:\n",
    "    if len(password) < 8:\n",
    "        return \"Weak password: too short\"\n",
    "    elif is_strong_password(password):\n",
    "        return \"Strong password!\"\n",
    "    else:\n",
    "        return \"Moderate password: missing character types\"\n",
    "\n",
    "password_count = int(input(\"Enter password count: \"))\n",
    "for i in range(password_count):\n",
    "    password_input = input(f\"Enter Password {i+1}:\")\n",
    "    print(analyze_password_strength(password=password_input))"
   ]
  }
 ],
 "metadata": {
  "kernelspec": {
   "display_name": ".venv",
   "language": "python",
   "name": "python3"
  },
  "language_info": {
   "codemirror_mode": {
    "name": "ipython",
    "version": 3
   },
   "file_extension": ".py",
   "mimetype": "text/x-python",
   "name": "python",
   "nbconvert_exporter": "python",
   "pygments_lexer": "ipython3",
   "version": "3.9.6"
  }
 },
 "nbformat": 4,
 "nbformat_minor": 2
}
