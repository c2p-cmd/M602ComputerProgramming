{
 "cells": [
  {
   "cell_type": "markdown",
   "metadata": {
    "vscode": {
     "languageId": "plaintext"
    }
   },
   "source": [
    "#### Try the following:\n",
    "1. WAP that creates a list of integers and prints out the largest and smallest in the list.\n",
    "2. WAP that takes a list of dictionaries as input, where each dict contains a \"name\" key and an \"age\" key. The program should return a new list of names, sorted by age in ascending order."
   ]
  },
  {
   "cell_type": "code",
   "execution_count": 1,
   "metadata": {},
   "outputs": [
    {
     "name": "stdout",
     "output_type": "stream",
     "text": [
      "Largest number is: 89 and Smallest number is: 32.\n"
     ]
    }
   ],
   "source": [
    "def print_largest_and_smallest(numbers: list[int]):\n",
    "    maximum_number = max(numbers)\n",
    "    minimum_number = min(numbers)\n",
    "    print(f\"Largest number is: {maximum_number} and Smallest number is: {minimum_number}.\")\n",
    "\n",
    "numbers = [89, 45, 67, 38, 32, 66]\n",
    "print_largest_and_smallest(numbers=numbers)"
   ]
  },
  {
   "cell_type": "code",
   "execution_count": 2,
   "metadata": {},
   "outputs": [
    {
     "data": {
      "text/plain": [
       "['Victor', 'JJ', 'John', 'Geena']"
      ]
     },
     "execution_count": 2,
     "metadata": {},
     "output_type": "execute_result"
    }
   ],
   "source": [
    "def sort_dictionaries_with_age(people: list[dict]) -> list[str]:\n",
    "    # validate the list\n",
    "    for person in people:\n",
    "        if \"name\" not in person.keys() or \"age\" not in person.keys():\n",
    "            raise Exception(f\"Error {person} doesn't have \\\"name\\\" or \\\"age\\\" key\")\n",
    "    \n",
    "    sorted_people = sorted(people, key=lambda k: k['age'])\n",
    "    return list(map(lambda person: person['name'], sorted_people))\n",
    "\n",
    "\n",
    "valid_list_people = [\n",
    "    {'name': 'Geena', 'age': 52},\n",
    "    {'name': 'JJ', 'age': 30},\n",
    "    {'name': 'John', 'age': 45},\n",
    "    {'name': 'Victor', 'age': 13},\n",
    "]\n",
    "\n",
    "sort_dictionaries_with_age(people=valid_list_people)"
   ]
  },
  {
   "cell_type": "code",
   "execution_count": 3,
   "metadata": {},
   "outputs": [
    {
     "ename": "Exception",
     "evalue": "Error {'age': 45} doesn't have \"name\" or \"age\" key",
     "output_type": "error",
     "traceback": [
      "\u001b[0;31m---------------------------------------------------------------------------\u001b[0m",
      "\u001b[0;31mException\u001b[0m                                 Traceback (most recent call last)",
      "Cell \u001b[0;32mIn[3], line 8\u001b[0m\n\u001b[1;32m      1\u001b[0m invalid_list_people \u001b[38;5;241m=\u001b[39m [\n\u001b[1;32m      2\u001b[0m     {\u001b[38;5;124m'\u001b[39m\u001b[38;5;124mname\u001b[39m\u001b[38;5;124m'\u001b[39m: \u001b[38;5;124m'\u001b[39m\u001b[38;5;124mGeena\u001b[39m\u001b[38;5;124m'\u001b[39m, \u001b[38;5;124m'\u001b[39m\u001b[38;5;124mage\u001b[39m\u001b[38;5;124m'\u001b[39m: \u001b[38;5;241m52\u001b[39m},\n\u001b[1;32m      3\u001b[0m     {\u001b[38;5;124m'\u001b[39m\u001b[38;5;124mage\u001b[39m\u001b[38;5;124m'\u001b[39m: \u001b[38;5;241m45\u001b[39m},\n\u001b[1;32m      4\u001b[0m     {\u001b[38;5;124m'\u001b[39m\u001b[38;5;124mname\u001b[39m\u001b[38;5;124m'\u001b[39m: \u001b[38;5;124m'\u001b[39m\u001b[38;5;124mJJ\u001b[39m\u001b[38;5;124m'\u001b[39m, \u001b[38;5;124m'\u001b[39m\u001b[38;5;124mage\u001b[39m\u001b[38;5;124m'\u001b[39m: \u001b[38;5;241m30\u001b[39m},\n\u001b[1;32m      5\u001b[0m     {\u001b[38;5;124m'\u001b[39m\u001b[38;5;124mname\u001b[39m\u001b[38;5;124m'\u001b[39m: \u001b[38;5;124m'\u001b[39m\u001b[38;5;124mVictor\u001b[39m\u001b[38;5;124m'\u001b[39m},\n\u001b[1;32m      6\u001b[0m ]\n\u001b[0;32m----> 8\u001b[0m \u001b[43msort_dictionaries_with_age\u001b[49m\u001b[43m(\u001b[49m\u001b[43mpeople\u001b[49m\u001b[38;5;241;43m=\u001b[39;49m\u001b[43minvalid_list_people\u001b[49m\u001b[43m)\u001b[49m\n",
      "Cell \u001b[0;32mIn[2], line 5\u001b[0m, in \u001b[0;36msort_dictionaries_with_age\u001b[0;34m(people)\u001b[0m\n\u001b[1;32m      3\u001b[0m \u001b[38;5;28;01mfor\u001b[39;00m person \u001b[38;5;129;01min\u001b[39;00m people:\n\u001b[1;32m      4\u001b[0m     \u001b[38;5;28;01mif\u001b[39;00m \u001b[38;5;124m\"\u001b[39m\u001b[38;5;124mname\u001b[39m\u001b[38;5;124m\"\u001b[39m \u001b[38;5;129;01mnot\u001b[39;00m \u001b[38;5;129;01min\u001b[39;00m person\u001b[38;5;241m.\u001b[39mkeys() \u001b[38;5;129;01mor\u001b[39;00m \u001b[38;5;124m\"\u001b[39m\u001b[38;5;124mage\u001b[39m\u001b[38;5;124m\"\u001b[39m \u001b[38;5;129;01mnot\u001b[39;00m \u001b[38;5;129;01min\u001b[39;00m person\u001b[38;5;241m.\u001b[39mkeys():\n\u001b[0;32m----> 5\u001b[0m         \u001b[38;5;28;01mraise\u001b[39;00m \u001b[38;5;167;01mException\u001b[39;00m(\u001b[38;5;124mf\u001b[39m\u001b[38;5;124m\"\u001b[39m\u001b[38;5;124mError \u001b[39m\u001b[38;5;132;01m{\u001b[39;00mperson\u001b[38;5;132;01m}\u001b[39;00m\u001b[38;5;124m doesn\u001b[39m\u001b[38;5;124m'\u001b[39m\u001b[38;5;124mt have \u001b[39m\u001b[38;5;130;01m\\\"\u001b[39;00m\u001b[38;5;124mname\u001b[39m\u001b[38;5;130;01m\\\"\u001b[39;00m\u001b[38;5;124m or \u001b[39m\u001b[38;5;130;01m\\\"\u001b[39;00m\u001b[38;5;124mage\u001b[39m\u001b[38;5;130;01m\\\"\u001b[39;00m\u001b[38;5;124m key\u001b[39m\u001b[38;5;124m\"\u001b[39m)\n\u001b[1;32m      7\u001b[0m sorted_people \u001b[38;5;241m=\u001b[39m \u001b[38;5;28msorted\u001b[39m(people, key\u001b[38;5;241m=\u001b[39m\u001b[38;5;28;01mlambda\u001b[39;00m k: k[\u001b[38;5;124m'\u001b[39m\u001b[38;5;124mage\u001b[39m\u001b[38;5;124m'\u001b[39m])\n\u001b[1;32m      8\u001b[0m \u001b[38;5;28;01mreturn\u001b[39;00m \u001b[38;5;28mlist\u001b[39m(\u001b[38;5;28mmap\u001b[39m(\u001b[38;5;28;01mlambda\u001b[39;00m person: person[\u001b[38;5;124m'\u001b[39m\u001b[38;5;124mname\u001b[39m\u001b[38;5;124m'\u001b[39m], sorted_people))\n",
      "\u001b[0;31mException\u001b[0m: Error {'age': 45} doesn't have \"name\" or \"age\" key"
     ]
    }
   ],
   "source": [
    "invalid_list_people = [\n",
    "    {'name': 'Geena', 'age': 52},\n",
    "    {'age': 45},\n",
    "    {'name': 'JJ', 'age': 30},\n",
    "    {'name': 'Victor'},\n",
    "]\n",
    "\n",
    "sort_dictionaries_with_age(people=invalid_list_people)"
   ]
  }
 ],
 "metadata": {
  "kernelspec": {
   "display_name": ".venv",
   "language": "python",
   "name": "python3"
  },
  "language_info": {
   "codemirror_mode": {
    "name": "ipython",
    "version": 3
   },
   "file_extension": ".py",
   "mimetype": "text/x-python",
   "name": "python",
   "nbconvert_exporter": "python",
   "pygments_lexer": "ipython3",
   "version": "3.9.6"
  }
 },
 "nbformat": 4,
 "nbformat_minor": 2
}
