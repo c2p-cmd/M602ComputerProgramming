{
 "cells": [
  {
   "cell_type": "markdown",
   "metadata": {},
   "source": [
    "Today is all about Mathematical Operators\n",
    "1. Addition\n",
    "2. Subtraction\n",
    "3. Multiplication\n",
    "4. Division"
   ]
  },
  {
   "cell_type": "code",
   "execution_count": 1,
   "metadata": {},
   "outputs": [
    {
     "name": "stdout",
     "output_type": "stream",
     "text": [
      "10 * 5 = 50\n"
     ]
    }
   ],
   "source": [
    "# Multiply 10 & 5\n",
    "print(f\"10 * 5 = {10*5}\")"
   ]
  },
  {
   "cell_type": "code",
   "execution_count": 2,
   "metadata": {},
   "outputs": [
    {
     "name": "stdout",
     "output_type": "stream",
     "text": [
      "6 - 3 = 3\n"
     ]
    }
   ],
   "source": [
    "# Minus 6 by 3\n",
    "print(f\"6 - 3 = {6-3}\")"
   ]
  },
  {
   "cell_type": "code",
   "execution_count": 3,
   "metadata": {},
   "outputs": [
    {
     "name": "stdout",
     "output_type": "stream",
     "text": [
      "68.75 * 0 = 0.0\n"
     ]
    }
   ],
   "source": [
    "# Times 68.75 by zero\n",
    "print(f\"68.75 * 0 = {68.75 * 0}\")"
   ]
  },
  {
   "cell_type": "code",
   "execution_count": 4,
   "metadata": {},
   "outputs": [
    {
     "name": "stdout",
     "output_type": "stream",
     "text": [
      "100/17 =  5.882353 & 100/0 = 100/0, \"ZeroDivisionError: division by zero\"\n"
     ]
    }
   ],
   "source": [
    "# Divide 100 by 17 also by zero\n",
    "print(f\"100/17 = {(100/17): 2f} & 100/0 = 100/0, \\\"ZeroDivisionError: division by zero\\\"\")"
   ]
  },
  {
   "cell_type": "code",
   "execution_count": 5,
   "metadata": {},
   "outputs": [
    {
     "name": "stdout",
     "output_type": "stream",
     "text": [
      "100/17 = 15\n"
     ]
    }
   ],
   "source": [
    "# 100 % 17 \n",
    "print(f\"100/17 = {100%17}\")"
   ]
  },
  {
   "cell_type": "code",
   "execution_count": 6,
   "metadata": {},
   "outputs": [
    {
     "name": "stdout",
     "output_type": "stream",
     "text": [
      "2^3 = 8\n"
     ]
    }
   ],
   "source": [
    "# Set 2 to the power of 3\n",
    "print(f\"2^3 = {2**3}\")"
   ]
  },
  {
   "cell_type": "code",
   "execution_count": 7,
   "metadata": {},
   "outputs": [
    {
     "name": "stdout",
     "output_type": "stream",
     "text": [
      "x=5, y=3, x*y = 15\n"
     ]
    }
   ],
   "source": [
    "# Set variable x equal to 5, y tp 3, multiply\n",
    "x = 5\n",
    "y = 3\n",
    "print(f\"x={x}, y={y}, x*y = {x*y}\")"
   ]
  },
  {
   "cell_type": "code",
   "execution_count": 8,
   "metadata": {},
   "outputs": [
    {
     "data": {
      "text/plain": [
       "[10, 6]"
      ]
     },
     "execution_count": 8,
     "metadata": {},
     "output_type": "execute_result"
    }
   ],
   "source": [
    "# List Comprehension demo\n",
    "\n",
    "input_list = [10, 5, 6]\n",
    "\n",
    "# traditional\n",
    "output = []\n",
    "for x in input_list:\n",
    "    if x % 2 == 0:\n",
    "        output.append(x)\n",
    "\n",
    "output"
   ]
  },
  {
   "cell_type": "code",
   "execution_count": 9,
   "metadata": {},
   "outputs": [
    {
     "data": {
      "text/plain": [
       "[10, 6]"
      ]
     },
     "execution_count": 9,
     "metadata": {},
     "output_type": "execute_result"
    }
   ],
   "source": [
    "# Comprehension\n",
    "output = [x for x in input_list if x % 2 == 0]\n",
    "output"
   ]
  },
  {
   "cell_type": "markdown",
   "metadata": {},
   "source": [
    "**Simple Operations**"
   ]
  },
  {
   "cell_type": "code",
   "execution_count": 10,
   "metadata": {},
   "outputs": [
    {
     "data": {
      "text/plain": [
       "10"
      ]
     },
     "execution_count": 10,
     "metadata": {},
     "output_type": "execute_result"
    }
   ],
   "source": [
    "# Set variable x to 10, y to 15. Check one is greater than other\n",
    "x = 10\n",
    "y = 5\n",
    "\n",
    "x if x > y else y"
   ]
  },
  {
   "cell_type": "markdown",
   "metadata": {},
   "source": [
    "Set vraible A to random name, B to another name.\n",
    "Check if two values are the same, and with second expression whether they are different"
   ]
  },
  {
   "cell_type": "code",
   "execution_count": 11,
   "metadata": {},
   "outputs": [
    {
     "name": "stdout",
     "output_type": "stream",
     "text": [
      "Is A == B? False\n",
      "Is A != B? True\n"
     ]
    }
   ],
   "source": [
    "A = \"Thomas\"\n",
    "B = \"Arnold\"\n",
    "\n",
    "print(f\"Is A == B? {A == B}\")\n",
    "print(f\"Is A != B? {A != B}\")"
   ]
  }
 ],
 "metadata": {
  "kernelspec": {
   "display_name": "Python 3",
   "language": "python",
   "name": "python3"
  },
  "language_info": {
   "codemirror_mode": {
    "name": "ipython",
    "version": 3
   },
   "file_extension": ".py",
   "mimetype": "text/x-python",
   "name": "python",
   "nbconvert_exporter": "python",
   "pygments_lexer": "ipython3",
   "version": "3.9.6"
  }
 },
 "nbformat": 4,
 "nbformat_minor": 2
}
